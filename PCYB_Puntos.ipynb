{
  "nbformat": 4,
  "nbformat_minor": 0,
  "metadata": {
    "colab": {
      "provenance": [],
      "include_colab_link": true
    },
    "kernelspec": {
      "name": "python3",
      "display_name": "Python 3"
    },
    "language_info": {
      "name": "python"
    }
  },
  "cells": [
    {
      "cell_type": "markdown",
      "metadata": {
        "id": "view-in-github",
        "colab_type": "text"
      },
      "source": [
        "<a href=\"https://colab.research.google.com/github/ChickenRob0t/W_Scrapping_Meteorologia/blob/main/PCYB_Puntos.ipynb\" target=\"_parent\"><img src=\"https://colab.research.google.com/assets/colab-badge.svg\" alt=\"Open In Colab\"/></a>"
      ]
    },
    {
      "cell_type": "code",
      "execution_count": null,
      "metadata": {
        "id": "gbLe7iuwwOL4"
      },
      "outputs": [],
      "source": [
        "#Instalar e importar todas las dependencias\n",
        "!pip install selenium\n",
        "from selenium import webdriver\n",
        "from selenium.webdriver.common.by import By\n",
        "from datetime import datetime, timedelta\n",
        "\n",
        "import pandas as pd\n",
        "import time"
      ]
    },
    {
      "cell_type": "code",
      "source": [
        "#Código para eliminar muchos problemas con Selenium (Esto sólo aplica en google colab)\n",
        "%%shell\n",
        "sudo apt -y update\n",
        "sudo apt install -y wget curl unzip\n",
        "wget http://archive.ubuntu.com/ubuntu/pool/main/libu/libu2f-host/libu2f-udev_1.1.4-1_all.deb\n",
        "dpkg -i libu2f-udev_1.1.4-1_all.deb\n",
        "wget https://dl.google.com/linux/direct/google-chrome-stable_current_amd64.deb\n",
        "dpkg -i google-chrome-stable_current_amd64.deb\n",
        "CHROME_DRIVER_VERSION=`curl -sS chromedriver.storage.googleapis.com/LATEST_RELEASE`\n",
        "wget -N https://chromedriver.storage.googleapis.com/$CHROME_DRIVER_VERSION/chromedriver_linux64.zip -P /tmp/\n",
        "unzip -o /tmp/chromedriver_linux64.zip -d /tmp/\n",
        "chmod +x /tmp/chromedriver\n",
        "mv /tmp/chromedriver /usr/local/bin/chromedriver\n",
        "pip install selenium\n",
        "\n",
        "#https://github.com/googlecolab/colabtools/issues/3347 Para recordar xd, sirve en mayo :p"
      ],
      "metadata": {
        "id": "oTX4buEmwSqC"
      },
      "execution_count": null,
      "outputs": []
    },
    {
      "cell_type": "code",
      "source": [
        "fecha_actual = datetime.now()                   #Problemas técnicos con la zona horaria para que me entregue el día de hoy siempre\n",
        "desplazamiento_gdl = timedelta(hours=-6)\n",
        "\n",
        "date_p= (fecha_actual + desplazamiento_gdl ).strftime('%Y-%m-%d')"
      ],
      "metadata": {
        "id": "kndqkYtq_qQ3"
      },
      "execution_count": null,
      "outputs": []
    },
    {
      "cell_type": "code",
      "source": [
        "def datos_pluv(n_clicks=False):\n",
        "\n",
        "    options = webdriver.ChromeOptions()\n",
        "    options.add_argument(\"--prefs\")\n",
        "    options.add_argument(\"--headless\")\n",
        "    options.add_argument('--disable-dev-shm-usage')\n",
        "    options.add_argument(\"--no-sandbox\")                           #Configuración general para entrar a la página\n",
        "\n",
        "    URL=\"https://uepcbj.com/uepcb_clp/map_visitors.php\"                      #------------------\n",
        "    driver=webdriver.Chrome(options=options)                                      #--------\n",
        "    driver.get(URL)                                                                 #---\n",
        "\n",
        "    zoom=driver.find_element(By.CLASS_NAME, 'leaflet-control-zoom-in') #Botón de zoom en la página\n",
        "    if n_clicks:              #Si pide que le des click al botón de zoom\n",
        "        zoom.click()\n",
        "\n",
        "    Colores=driver.find_elements(By.CLASS_NAME,'leaflet-interactive') #Entrega la información de los puntitos\n",
        "    base=pd.DataFrame({'Estado':[] , 'Municipio':[] ,'Dependencia':[] , 'Colonia':[] , 'Lectura':[] }) #Generamos la base\n",
        "                                                                                                    #de datos\n",
        "    for color in Colores:                       #Configuración para clickear cada botón, entrega la información y la\n",
        "        try:                                                   #almacena en la base de datos\n",
        "            color.click()\n",
        "            info = (driver.find_element(By.CLASS_NAME, 'leaflet-popup-content').text).split('\\n')\n",
        "            fila= dict(map(lambda x: x.split(':'),info))\n",
        "            base=base.append(fila,ignore_index=True)\n",
        "            time.sleep(1)\n",
        "        except:\n",
        "            pass\n",
        "\n",
        "\n",
        "    return base"
      ],
      "metadata": {
        "id": "O49YeKwBwUEF"
      },
      "execution_count": null,
      "outputs": []
    },
    {
      "cell_type": "code",
      "source": [
        "w_c=datos_pluv(False)                     #Genera uno donde sí hace zoom, luego donde no\n",
        "w_oc=datos_pluv(True)        #Aquí sí da zoom\n",
        "\n",
        "completo=pd.concat([w_c,w_oc]).drop_duplicates()        #Los une y elimina los que se repitan\n",
        "completo"
      ],
      "metadata": {
        "id": "kEWv5yj7wbPn"
      },
      "execution_count": null,
      "outputs": []
    },
    {
      "cell_type": "code",
      "source": [
        "completo.to_csv('Datos_pluviales_{}.csv'.format(date_p)) #Lo guarda como csv para ya poderlo descargar"
      ],
      "metadata": {
        "id": "IQnpgmllwhAq"
      },
      "execution_count": null,
      "outputs": []
    }
  ]
}